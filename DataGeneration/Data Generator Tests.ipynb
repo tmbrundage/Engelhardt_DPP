{
 "cells": [
  {
   "cell_type": "code",
   "execution_count": 1,
   "metadata": {
    "collapsed": false
   },
   "outputs": [
    {
     "data": {
      "text/plain": [
       "array([[-1.62862977],\n",
       "       [ 0.        ],\n",
       "       [-0.        ],\n",
       "       [-2.07727124],\n",
       "       [-0.        ],\n",
       "       [-0.        ]])"
      ]
     },
     "execution_count": 1,
     "metadata": {},
     "output_type": "execute_result"
    }
   ],
   "source": [
    "import numpy as np\n",
    "import LinearDataGenerator\n",
    "import matplotlib.pyplot as plt\n",
    "from mpl_toolkits.mplot3d import Axes3D\n",
    "\n",
    "ldg = LinearDataGenerator.LinearDataGenerator()\n",
    "ldg.bg"
   ]
  },
  {
   "cell_type": "code",
   "execution_count": 2,
   "metadata": {
    "collapsed": false
   },
   "outputs": [
    {
     "data": {
      "text/plain": [
       "<matplotlib.text.Text at 0x1029dc050>"
      ]
     },
     "execution_count": 2,
     "metadata": {},
     "output_type": "execute_result"
    }
   ],
   "source": [
    "fig = plt.figure()\n",
    "ax = fig.add_subplot(111,projection='3d')\n",
    "for i in range(ldg.n):\n",
    "    ax.scatter(ldg.X[i,0],ldg.X[i,3],ldg.y[i,0])\n",
    "X,Y=np.meshgrid(np.linspace(-4,4,10),np.linspace(-4,4,10))\n",
    "Z = X*ldg.bg[0,0] + Y*ldg.bg[3,0]\n",
    "ax.plot_wireframe(X,Y,Z)\n",
    "ax.set_xlabel('X SF 1')\n",
    "ax.set_ylabel('X SF 2')\n",
    "ax.set_zlabel('Y + noise')\n",
    "ax.set_title('2 component test')"
   ]
  },
  {
   "cell_type": "code",
   "execution_count": null,
   "metadata": {
    "collapsed": true
   },
   "outputs": [],
   "source": [
    "plt.show()"
   ]
  },
  {
   "cell_type": "code",
   "execution_count": null,
   "metadata": {
    "collapsed": true
   },
   "outputs": [],
   "source": []
  }
 ],
 "metadata": {
  "kernelspec": {
   "display_name": "Python 2",
   "language": "python",
   "name": "python2"
  },
  "language_info": {
   "codemirror_mode": {
    "name": "ipython",
    "version": 2
   },
   "file_extension": ".py",
   "mimetype": "text/x-python",
   "name": "python",
   "nbconvert_exporter": "python",
   "pygments_lexer": "ipython2",
   "version": "2.7.11"
  }
 },
 "nbformat": 4,
 "nbformat_minor": 0
}
